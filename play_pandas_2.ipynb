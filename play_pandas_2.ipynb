{
 "cells": [
  {
   "cell_type": "code",
   "execution_count": 40,
   "metadata": {},
   "outputs": [],
   "source": [
    "import numpy as np\n",
    "from pandas import DataFrame, Series\n",
    "import pandas as pd\n",
    "import matplotlib.pyplot as plt"
   ]
  },
  {
   "cell_type": "code",
   "execution_count": 3,
   "metadata": {},
   "outputs": [],
   "source": [
    "marks = {'Name': ['mehul', 'fatih', 'jane'], 'Roll': [12, 14, 11], 'Gender': ['m', 'm', 'f']}\n",
    "d1 = DataFrame(marks)"
   ]
  },
  {
   "cell_type": "code",
   "execution_count": 4,
   "metadata": {},
   "outputs": [
    {
     "data": {
      "text/html": [
       "<div>\n",
       "<style scoped>\n",
       "    .dataframe tbody tr th:only-of-type {\n",
       "        vertical-align: middle;\n",
       "    }\n",
       "\n",
       "    .dataframe tbody tr th {\n",
       "        vertical-align: top;\n",
       "    }\n",
       "\n",
       "    .dataframe thead th {\n",
       "        text-align: right;\n",
       "    }\n",
       "</style>\n",
       "<table border=\"1\" class=\"dataframe\">\n",
       "  <thead>\n",
       "    <tr style=\"text-align: right;\">\n",
       "      <th></th>\n",
       "      <th>Name</th>\n",
       "      <th>Roll</th>\n",
       "      <th>Gender</th>\n",
       "    </tr>\n",
       "  </thead>\n",
       "  <tbody>\n",
       "    <tr>\n",
       "      <th>0</th>\n",
       "      <td>mehul</td>\n",
       "      <td>12</td>\n",
       "      <td>m</td>\n",
       "    </tr>\n",
       "    <tr>\n",
       "      <th>1</th>\n",
       "      <td>fatih</td>\n",
       "      <td>14</td>\n",
       "      <td>m</td>\n",
       "    </tr>\n",
       "    <tr>\n",
       "      <th>2</th>\n",
       "      <td>jane</td>\n",
       "      <td>11</td>\n",
       "      <td>f</td>\n",
       "    </tr>\n",
       "  </tbody>\n",
       "</table>\n",
       "</div>"
      ],
      "text/plain": [
       "    Name  Roll Gender\n",
       "0  mehul    12      m\n",
       "1  fatih    14      m\n",
       "2   jane    11      f"
      ]
     },
     "execution_count": 4,
     "metadata": {},
     "output_type": "execute_result"
    }
   ],
   "source": [
    "d1"
   ]
  },
  {
   "cell_type": "code",
   "execution_count": 6,
   "metadata": {},
   "outputs": [
    {
     "name": "stdout",
     "output_type": "stream",
     "text": [
      "Index(['Name', 'Roll', 'Gender'], dtype='object')\n",
      "RangeIndex(start=0, stop=3, step=1)\n"
     ]
    }
   ],
   "source": [
    "print(d1.columns)\n",
    "print(d1.index)"
   ]
  },
  {
   "cell_type": "markdown",
   "metadata": {},
   "source": [
    "Indexing"
   ]
  },
  {
   "cell_type": "code",
   "execution_count": 12,
   "metadata": {},
   "outputs": [
    {
     "name": "stdout",
     "output_type": "stream",
     "text": [
      "0    mehul\n",
      "1    fatih\n",
      "2     jane\n",
      "Name: Name, dtype: object\n",
      "    Name Gender\n",
      "0  mehul      m\n",
      "1  fatih      m\n",
      "2   jane      f\n",
      "Name      fatih\n",
      "Roll         14\n",
      "Gender        m\n",
      "Name: 1, dtype: object\n",
      "Name      mehul\n",
      "Roll         12\n",
      "Gender        m\n",
      "Name: 0, dtype: object\n",
      "Name      fatih\n",
      "Gender        m\n",
      "Name: 1, dtype: object\n"
     ]
    }
   ],
   "source": [
    "# exclusive column based indexing\n",
    "print(d1['Name'])\n",
    "print(d1[['Name', 'Gender']])\n",
    "\n",
    "print(d1.loc[1])\n",
    "print(d1.iloc[0])\n",
    "print(d1.loc[1, ['Name', 'Gender']])"
   ]
  },
  {
   "cell_type": "code",
   "execution_count": 13,
   "metadata": {},
   "outputs": [],
   "source": [
    "roll = [4, 5, 10]\n",
    "marks = {'Physics': [99, 92, 87], 'Chemistry': [45, 99, 100], 'Maths': [99, 98, 90]}\n",
    "d2 = DataFrame(marks, index=roll)"
   ]
  },
  {
   "cell_type": "code",
   "execution_count": 15,
   "metadata": {},
   "outputs": [],
   "source": [
    "d2.index.name = 'Roll'\n",
    "d2.columns.name = 'Subjects'"
   ]
  },
  {
   "cell_type": "code",
   "execution_count": 16,
   "metadata": {},
   "outputs": [
    {
     "data": {
      "text/html": [
       "<div>\n",
       "<style scoped>\n",
       "    .dataframe tbody tr th:only-of-type {\n",
       "        vertical-align: middle;\n",
       "    }\n",
       "\n",
       "    .dataframe tbody tr th {\n",
       "        vertical-align: top;\n",
       "    }\n",
       "\n",
       "    .dataframe thead th {\n",
       "        text-align: right;\n",
       "    }\n",
       "</style>\n",
       "<table border=\"1\" class=\"dataframe\">\n",
       "  <thead>\n",
       "    <tr style=\"text-align: right;\">\n",
       "      <th>Subjects</th>\n",
       "      <th>Physics</th>\n",
       "      <th>Chemistry</th>\n",
       "      <th>Maths</th>\n",
       "    </tr>\n",
       "    <tr>\n",
       "      <th>Roll</th>\n",
       "      <th></th>\n",
       "      <th></th>\n",
       "      <th></th>\n",
       "    </tr>\n",
       "  </thead>\n",
       "  <tbody>\n",
       "    <tr>\n",
       "      <th>4</th>\n",
       "      <td>99</td>\n",
       "      <td>45</td>\n",
       "      <td>99</td>\n",
       "    </tr>\n",
       "    <tr>\n",
       "      <th>5</th>\n",
       "      <td>92</td>\n",
       "      <td>99</td>\n",
       "      <td>98</td>\n",
       "    </tr>\n",
       "    <tr>\n",
       "      <th>10</th>\n",
       "      <td>87</td>\n",
       "      <td>100</td>\n",
       "      <td>90</td>\n",
       "    </tr>\n",
       "  </tbody>\n",
       "</table>\n",
       "</div>"
      ],
      "text/plain": [
       "Subjects  Physics  Chemistry  Maths\n",
       "Roll                               \n",
       "4              99         45     99\n",
       "5              92         99     98\n",
       "10             87        100     90"
      ]
     },
     "execution_count": 16,
     "metadata": {},
     "output_type": "execute_result"
    }
   ],
   "source": [
    "d2"
   ]
  },
  {
   "cell_type": "code",
   "execution_count": 19,
   "metadata": {},
   "outputs": [
    {
     "name": "stdout",
     "output_type": "stream",
     "text": [
      "Subjects  Physics  Maths\n",
      "Roll                    \n",
      "4              99     99\n",
      "5              92     98\n",
      "10             87     90\n",
      "Subjects  Physics  Chemistry\n",
      "Roll                        \n",
      "5              92         99\n",
      "10             87        100\n"
     ]
    }
   ],
   "source": [
    "print(d2[['Physics', 'Maths']])\n",
    "print(d2[-2:][['Physics', 'Chemistry']])"
   ]
  },
  {
   "cell_type": "code",
   "execution_count": 26,
   "metadata": {},
   "outputs": [
    {
     "name": "stdout",
     "output_type": "stream",
     "text": [
      "Subjects  Physics  Chemistry  Maths\n",
      "Roll                               \n",
      "4              99         45     99\n",
      "5              92         99     98\n",
      "10             87        100     90\n",
      "Subjects  Physics  Chemistry  Maths\n",
      "Roll                               \n",
      "4              99         45     99\n",
      "5              92         99     98\n"
     ]
    }
   ],
   "source": [
    "print(d2)\n",
    "s1 = d2['Physics']\n",
    "s2 = s1[s1 > 90]\n",
    "d3 = d2.loc[s2.index]\n",
    "print(d3)"
   ]
  },
  {
   "cell_type": "code",
   "execution_count": 30,
   "metadata": {},
   "outputs": [
    {
     "name": "stdout",
     "output_type": "stream",
     "text": [
      "Subjects  Physics  Chemistry  Maths\n",
      "Roll                               \n",
      "4              99         45     99\n",
      "5              92         99     98\n",
      "10             87        100     90\n",
      "Subjects\n",
      "Physics      92.666667\n",
      "Chemistry    81.333333\n",
      "Maths        95.666667\n",
      "dtype: float64\n",
      "Roll\n",
      "4     243\n",
      "5     289\n",
      "10    277\n",
      "dtype: int64\n"
     ]
    }
   ],
   "source": [
    "print(d2)\n",
    "print(d2.mean()) # by default the axis is 0\n",
    "print(d2.sum(axis=1))"
   ]
  },
  {
   "cell_type": "code",
   "execution_count": 32,
   "metadata": {},
   "outputs": [
    {
     "name": "stdout",
     "output_type": "stream",
     "text": [
      "Subjects  Physics  Chemistry  Maths\n",
      "Roll                               \n",
      "4              99         45     99\n",
      "5              92         99     98\n",
      "10             87        100     90\n",
      "Subjects  Physics  Chemistry  Maths  Total\n",
      "Roll                                      \n",
      "4              99         45     99    243\n",
      "5              92         99     98    289\n",
      "10             87        100     90    277\n"
     ]
    }
   ],
   "source": [
    "print(d2)\n",
    "d2['Total'] = d2['Physics'] + d2['Chemistry'] + d2['Maths']\n",
    "print(d2)"
   ]
  },
  {
   "cell_type": "code",
   "execution_count": 34,
   "metadata": {},
   "outputs": [],
   "source": [
    "del d2['Total']"
   ]
  },
  {
   "cell_type": "code",
   "execution_count": 35,
   "metadata": {},
   "outputs": [
    {
     "name": "stdout",
     "output_type": "stream",
     "text": [
      "Subjects  Physics  Chemistry  Maths\n",
      "Roll                               \n",
      "4              99         45     99\n",
      "5              92         99     98\n",
      "10             87        100     90\n"
     ]
    }
   ],
   "source": [
    "print(d2)"
   ]
  },
  {
   "cell_type": "code",
   "execution_count": 37,
   "metadata": {},
   "outputs": [
    {
     "data": {
      "image/png": "[encoded data removed]",
      "text/plain": [
       "<Figure size 432x288 with 1 Axes>"
      ]
     },
     "metadata": {
      "needs_background": "light"
     },
     "output_type": "display_data"
    }
   ],
   "source": [
    "d2.plot(kind='barh')\n",
    "plt.show()"
   ]
  },
  {
   "cell_type": "code",
   "execution_count": 38,
   "metadata": {},
   "outputs": [
    {
     "name": "stdout",
     "output_type": "stream",
     "text": [
      "Subjects  Physics  Chemistry  Maths\n",
      "Roll                               \n",
      "4              99         45     99\n",
      "5              92         99     98\n",
      "10             87        100     90\n"
     ]
    }
   ],
   "source": [
    "print(d2)"
   ]
  },
  {
   "cell_type": "code",
   "execution_count": 41,
   "metadata": {},
   "outputs": [
    {
     "name": "stdout",
     "output_type": "stream",
     "text": [
      "5     90\n",
      "10    89\n",
      "4     78\n",
      "dtype: int64\n"
     ]
    }
   ],
   "source": [
    "english = Series([90, 89, 78], index=[5, 10, 4])\n",
    "print(english)"
   ]
  },
  {
   "cell_type": "code",
   "execution_count": 42,
   "metadata": {},
   "outputs": [
    {
     "name": "stdout",
     "output_type": "stream",
     "text": [
      "Subjects  Physics  Chemistry  Maths  English\n",
      "Roll                                        \n",
      "4              99         45     99       78\n",
      "5              92         99     98       90\n",
      "10             87        100     90       89\n"
     ]
    }
   ],
   "source": [
    "d2['English'] = english\n",
    "print(d2)"
   ]
  },
  {
   "cell_type": "code",
   "execution_count": 43,
   "metadata": {},
   "outputs": [
    {
     "name": "stdout",
     "output_type": "stream",
     "text": [
      "    Maths  Chemistry\n",
      "12    100         78\n",
      "13     45         90\n"
     ]
    }
   ],
   "source": [
    "d3 = DataFrame({'Maths': [100, 45], 'Chemistry': [78, 90]}, index=[12, 13])\n",
    "print(d3)"
   ]
  },
  {
   "cell_type": "code",
   "execution_count": 44,
   "metadata": {},
   "outputs": [
    {
     "name": "stdout",
     "output_type": "stream",
     "text": [
      "    Chemistry  English  Maths  Physics\n",
      "4          45     78.0     99     99.0\n",
      "5          99     90.0     98     92.0\n",
      "10        100     89.0     90     87.0\n",
      "12         78      NaN    100      NaN\n",
      "13         90      NaN     45      NaN\n"
     ]
    },
    {
     "name": "stderr",
     "output_type": "stream",
     "text": [
      "/anaconda3/lib/python3.7/site-packages/ipykernel_launcher.py:1: FutureWarning: Sorting because non-concatenation axis is not aligned. A future version\n",
      "of pandas will change to not sort by default.\n",
      "\n",
      "To accept the future behavior, pass 'sort=False'.\n",
      "\n",
      "To retain the current behavior and silence the warning, pass 'sort=True'.\n",
      "\n",
      "  \"\"\"Entry point for launching an IPython kernel.\n"
     ]
    }
   ],
   "source": [
    "d4 = pd.concat([d2, d3])\n",
    "print(d4)"
   ]
  },
  {
   "cell_type": "code",
   "execution_count": 45,
   "metadata": {},
   "outputs": [
    {
     "name": "stdout",
     "output_type": "stream",
     "text": [
      "    Chemistry  English  Maths  Physics\n",
      "4          45     78.0     99     99.0\n",
      "5          99     90.0     98     92.0\n",
      "10        100     89.0     90     87.0\n"
     ]
    }
   ],
   "source": [
    "d5 = d4.dropna()\n",
    "print(d5)"
   ]
  },
  {
   "cell_type": "code",
   "execution_count": 46,
   "metadata": {},
   "outputs": [],
   "source": [
    "weather_data = {'years': [1900, 1900, 1900, 1901, 1901, 1902], 'temperatures': [23, 25, 20, 32, 20, 35]}\n",
    "d6 = DataFrame(weather_data)"
   ]
  },
  {
   "cell_type": "code",
   "execution_count": 47,
   "metadata": {},
   "outputs": [
    {
     "data": {
      "text/html": [
       "<div>\n",
       "<style scoped>\n",
       "    .dataframe tbody tr th:only-of-type {\n",
       "        vertical-align: middle;\n",
       "    }\n",
       "\n",
       "    .dataframe tbody tr th {\n",
       "        vertical-align: top;\n",
       "    }\n",
       "\n",
       "    .dataframe thead th {\n",
       "        text-align: right;\n",
       "    }\n",
       "</style>\n",
       "<table border=\"1\" class=\"dataframe\">\n",
       "  <thead>\n",
       "    <tr style=\"text-align: right;\">\n",
       "      <th></th>\n",
       "      <th>years</th>\n",
       "      <th>temperatures</th>\n",
       "    </tr>\n",
       "  </thead>\n",
       "  <tbody>\n",
       "    <tr>\n",
       "      <th>0</th>\n",
       "      <td>1900</td>\n",
       "      <td>23</td>\n",
       "    </tr>\n",
       "    <tr>\n",
       "      <th>1</th>\n",
       "      <td>1900</td>\n",
       "      <td>25</td>\n",
       "    </tr>\n",
       "    <tr>\n",
       "      <th>2</th>\n",
       "      <td>1900</td>\n",
       "      <td>20</td>\n",
       "    </tr>\n",
       "    <tr>\n",
       "      <th>3</th>\n",
       "      <td>1901</td>\n",
       "      <td>32</td>\n",
       "    </tr>\n",
       "    <tr>\n",
       "      <th>4</th>\n",
       "      <td>1901</td>\n",
       "      <td>20</td>\n",
       "    </tr>\n",
       "    <tr>\n",
       "      <th>5</th>\n",
       "      <td>1902</td>\n",
       "      <td>35</td>\n",
       "    </tr>\n",
       "  </tbody>\n",
       "</table>\n",
       "</div>"
      ],
      "text/plain": [
       "   years  temperatures\n",
       "0   1900            23\n",
       "1   1900            25\n",
       "2   1900            20\n",
       "3   1901            32\n",
       "4   1901            20\n",
       "5   1902            35"
      ]
     },
     "execution_count": 47,
     "metadata": {},
     "output_type": "execute_result"
    }
   ],
   "source": [
    "d6"
   ]
  },
  {
   "cell_type": "code",
   "execution_count": 50,
   "metadata": {},
   "outputs": [
    {
     "data": {
      "image/png": "[encoded data removed]",
      "text/plain": [
       "<Figure size 432x288 with 1 Axes>"
      ]
     },
     "metadata": {
      "needs_background": "light"
     },
     "output_type": "display_data"
    }
   ],
   "source": [
    "max_temp_yearly = d6.groupby(by='years').max()\n",
    "max_temp_yearly.plot(kind='bar')\n",
    "plt.show()"
   ]
  },
  {
   "cell_type": "code",
   "execution_count": 53,
   "metadata": {},
   "outputs": [
    {
     "name": "stdout",
     "output_type": "stream",
     "text": [
      "    Name  Physics  Chemistry  Maths\n",
      "0  mehul       93         90    100\n",
      "1  fatih       99         94     98\n"
     ]
    }
   ],
   "source": [
    "d7 = pd.read_csv('/Users/mehul.chopra/Desktop/marks.csv', header=None, names=['Name', 'Physics', 'Chemistry', 'Maths'])\n",
    "print(d7)"
   ]
  }
 ],
 "metadata": {
  "kernelspec": {
   "display_name": "Python 3",
   "language": "python",
   "name": "python3"
  },
  "language_info": {
   "codemirror_mode": {
    "name": "ipython",
    "version": 3
   },
   "file_extension": ".py",
   "mimetype": "text/x-python",
   "name": "python",
   "nbconvert_exporter": "python",
   "pygments_lexer": "ipython3",
   "version": "3.7.1"
  }
 },
 "nbformat": 4,
 "nbformat_minor": 2
}
