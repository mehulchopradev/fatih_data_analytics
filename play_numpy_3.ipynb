{
 "cells": [
  {
   "cell_type": "code",
   "execution_count": 1,
   "metadata": {},
   "outputs": [],
   "source": [
    "import numpy as np"
   ]
  },
  {
   "cell_type": "code",
   "execution_count": 5,
   "metadata": {},
   "outputs": [
    {
     "name": "stdout",
     "output_type": "stream",
     "text": [
      "[0. 0. 0. 0. 0. 0. 0. 0. 0. 0.]\n",
      "[1. 1. 1. 1. 1. 1. 1. 1. 1. 1.]\n",
      "[[0. 0. 0.]\n",
      " [0. 0. 0.]\n",
      " [0. 0. 0.]]\n",
      "[[1. 0. 0.]\n",
      " [0. 1. 0.]\n",
      " [0. 0. 1.]]\n"
     ]
    }
   ],
   "source": [
    "print(np.zeros(10))\n",
    "print(np.ones(10))\n",
    "print(np.zeros((3,3)))\n",
    "print(np.identity(3))"
   ]
  },
  {
   "cell_type": "code",
   "execution_count": 23,
   "metadata": {},
   "outputs": [
    {
     "name": "stdout",
     "output_type": "stream",
     "text": [
      "[0 1 2 3 4 5 6 7 8 9]\n",
      "[ 4  5  6  7  8  9 10 11 12 13 14 15 16 17 18 19 20]\n"
     ]
    }
   ],
   "source": [
    "print(np.arange(10))\n",
    "print(np.arange(4, 21))\n",
    "n1 = np.arange(20)\n",
    "n2 = n1.reshape(5, 4)"
   ]
  },
  {
   "cell_type": "code",
   "execution_count": 24,
   "metadata": {},
   "outputs": [],
   "source": [
    "import numpy.random as rd"
   ]
  },
  {
   "cell_type": "code",
   "execution_count": 25,
   "metadata": {},
   "outputs": [
    {
     "name": "stdout",
     "output_type": "stream",
     "text": [
      "[0.92021393 0.08806622 0.68533314 0.57481079 0.8682009  0.61897474\n",
      " 0.43338693 0.9222597  0.03499407 0.75547328 0.93328516 0.78787799\n",
      " 0.69102576 0.66125474 0.16762255 0.82178694 0.06387757 0.85583051\n",
      " 0.30152071 0.58467361 0.89046417 0.45890927 0.84290421 0.28683671\n",
      " 0.61883287 0.47989182 0.60288935 0.3794887  0.29748759 0.16592715\n",
      " 0.42736769 0.93017272 0.71539194 0.3782629  0.66331444 0.10714395\n",
      " 0.85452343 0.54885863 0.72122912 0.38978973 0.35619015 0.0893335\n",
      " 0.22231981 0.14768674 0.54391912 0.32915682 0.8634193  0.35612566\n",
      " 0.85169253 0.6308045 ]\n",
      "[[ 0.11267563 -0.09735897  1.02403149]\n",
      " [-1.92146699 -0.24490082 -1.44391697]\n",
      " [ 0.98416826  0.53920263 -0.6672575 ]]\n"
     ]
    }
   ],
   "source": [
    "print(rd.random(50))\n",
    "print(rd.randn(3,3))"
   ]
  },
  {
   "cell_type": "code",
   "execution_count": 28,
   "metadata": {},
   "outputs": [
    {
     "name": "stdout",
     "output_type": "stream",
     "text": [
      "[[ 0  1  2  3]\n",
      " [ 4  5  6  7]\n",
      " [ 8  9 10 11]\n",
      " [12 13 14 15]\n",
      " [16 17 18 19]]\n",
      "[ 0  1  2  3  4  5  6  7  8  9 10 11 12 13 14 15 16 17 18 19]\n"
     ]
    }
   ],
   "source": [
    "print(n2)\n",
    "n3 = np.ravel(n2)\n",
    "print(n3)"
   ]
  }
 ],
 "metadata": {
  "kernelspec": {
   "display_name": "Python 3",
   "language": "python",
   "name": "python3"
  },
  "language_info": {
   "codemirror_mode": {
    "name": "ipython",
    "version": 3
   },
   "file_extension": ".py",
   "mimetype": "text/x-python",
   "name": "python",
   "nbconvert_exporter": "python",
   "pygments_lexer": "ipython3",
   "version": "3.7.1"
  }
 },
 "nbformat": 4,
 "nbformat_minor": 2
}
