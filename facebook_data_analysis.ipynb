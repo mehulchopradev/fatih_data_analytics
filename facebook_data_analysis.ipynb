{
 "cells": [
  {
   "cell_type": "code",
   "execution_count": 1,
   "metadata": {},
   "outputs": [],
   "source": [
    "import numpy as np\n",
    "import pandas as pd\n",
    "from pandas import Series, DataFrame\n",
    "import matplotlib.pyplot as plt"
   ]
  },
  {
   "cell_type": "code",
   "execution_count": 2,
   "metadata": {},
   "outputs": [],
   "source": [
    "path = '/Users/mehul.chopra/Downloads/data-analysis-data/facebook_logs/facebook_login_logout_logs'"
   ]
  },
  {
   "cell_type": "code",
   "execution_count": 3,
   "metadata": {},
   "outputs": [
    {
     "data": {
      "text/html": [
       "<div>\n",
       "<style scoped>\n",
       "    .dataframe tbody tr th:only-of-type {\n",
       "        vertical-align: middle;\n",
       "    }\n",
       "\n",
       "    .dataframe tbody tr th {\n",
       "        vertical-align: top;\n",
       "    }\n",
       "\n",
       "    .dataframe thead th {\n",
       "        text-align: right;\n",
       "    }\n",
       "</style>\n",
       "<table border=\"1\" class=\"dataframe\">\n",
       "  <thead>\n",
       "    <tr style=\"text-align: right;\">\n",
       "      <th></th>\n",
       "      <th>username</th>\n",
       "      <th>date</th>\n",
       "      <th>time</th>\n",
       "      <th>action</th>\n",
       "    </tr>\n",
       "  </thead>\n",
       "  <tbody>\n",
       "    <tr>\n",
       "      <th>0</th>\n",
       "      <td>mehul.chopra@neebal.com</td>\n",
       "      <td>2015-03-01</td>\n",
       "      <td>4:30</td>\n",
       "      <td>in</td>\n",
       "    </tr>\n",
       "    <tr>\n",
       "      <th>1</th>\n",
       "      <td>narendra.modi@yahoo.com</td>\n",
       "      <td>2015-03-01</td>\n",
       "      <td>4:35</td>\n",
       "      <td>out</td>\n",
       "    </tr>\n",
       "    <tr>\n",
       "      <th>2</th>\n",
       "      <td>katrina.kaif@gmail.com</td>\n",
       "      <td>2015-03-01</td>\n",
       "      <td>4:36</td>\n",
       "      <td>out</td>\n",
       "    </tr>\n",
       "    <tr>\n",
       "      <th>3</th>\n",
       "      <td>mehul.chopra@neebal.com</td>\n",
       "      <td>2015-03-01</td>\n",
       "      <td>4:45</td>\n",
       "      <td>out</td>\n",
       "    </tr>\n",
       "    <tr>\n",
       "      <th>4</th>\n",
       "      <td>narendra.modi@yahoo.com</td>\n",
       "      <td>2015-03-01</td>\n",
       "      <td>4:50</td>\n",
       "      <td>out</td>\n",
       "    </tr>\n",
       "    <tr>\n",
       "      <th>5</th>\n",
       "      <td>mehul.chopra@neebal.com</td>\n",
       "      <td>2015-03-02</td>\n",
       "      <td>5:30</td>\n",
       "      <td>out</td>\n",
       "    </tr>\n",
       "    <tr>\n",
       "      <th>6</th>\n",
       "      <td>mehul.chopra@neebal.com</td>\n",
       "      <td>2015-03-02</td>\n",
       "      <td>5:45</td>\n",
       "      <td>out</td>\n",
       "    </tr>\n",
       "    <tr>\n",
       "      <th>7</th>\n",
       "      <td>mehul.chopra@neebal.com</td>\n",
       "      <td>2015-03-02</td>\n",
       "      <td>6:00</td>\n",
       "      <td>in</td>\n",
       "    </tr>\n",
       "    <tr>\n",
       "      <th>8</th>\n",
       "      <td>mehul.chopra@neebal.com</td>\n",
       "      <td>2015-03-02</td>\n",
       "      <td>7:30</td>\n",
       "      <td>out</td>\n",
       "    </tr>\n",
       "    <tr>\n",
       "      <th>9</th>\n",
       "      <td>katrina.kaif@gmail.com</td>\n",
       "      <td>2015-03-02</td>\n",
       "      <td>18:00</td>\n",
       "      <td>out</td>\n",
       "    </tr>\n",
       "    <tr>\n",
       "      <th>10</th>\n",
       "      <td>narendra.modi@yahoo.com</td>\n",
       "      <td>2015-03-03</td>\n",
       "      <td>10:30</td>\n",
       "      <td>out</td>\n",
       "    </tr>\n",
       "    <tr>\n",
       "      <th>11</th>\n",
       "      <td>narendra.modi@yahoo.com</td>\n",
       "      <td>2015-03-03</td>\n",
       "      <td>10:45</td>\n",
       "      <td>out</td>\n",
       "    </tr>\n",
       "    <tr>\n",
       "      <th>12</th>\n",
       "      <td>katrina.kaif@gmail.com</td>\n",
       "      <td>2015-03-03</td>\n",
       "      <td>11:00</td>\n",
       "      <td>in</td>\n",
       "    </tr>\n",
       "    <tr>\n",
       "      <th>13</th>\n",
       "      <td>narendra.modi@yahoo.com</td>\n",
       "      <td>2015-03-03</td>\n",
       "      <td>11:30</td>\n",
       "      <td>out</td>\n",
       "    </tr>\n",
       "    <tr>\n",
       "      <th>14</th>\n",
       "      <td>mehul.chopra@neebal.com</td>\n",
       "      <td>2015-03-03</td>\n",
       "      <td>1:30</td>\n",
       "      <td>in</td>\n",
       "    </tr>\n",
       "    <tr>\n",
       "      <th>15</th>\n",
       "      <td>narendra.modi@yahoo.com</td>\n",
       "      <td>2015-03-03</td>\n",
       "      <td>2:30</td>\n",
       "      <td>out</td>\n",
       "    </tr>\n",
       "    <tr>\n",
       "      <th>16</th>\n",
       "      <td>katrina.kaif@gmail.com</td>\n",
       "      <td>2015-03-03</td>\n",
       "      <td>2:30</td>\n",
       "      <td>out</td>\n",
       "    </tr>\n",
       "    <tr>\n",
       "      <th>17</th>\n",
       "      <td>mehul.chopra@neebal.com</td>\n",
       "      <td>2015-03-03</td>\n",
       "      <td>2:45</td>\n",
       "      <td>in</td>\n",
       "    </tr>\n",
       "  </tbody>\n",
       "</table>\n",
       "</div>"
      ],
      "text/plain": [
       "                   username        date   time action\n",
       "0   mehul.chopra@neebal.com  2015-03-01   4:30     in\n",
       "1   narendra.modi@yahoo.com  2015-03-01   4:35    out\n",
       "2    katrina.kaif@gmail.com  2015-03-01   4:36    out\n",
       "3   mehul.chopra@neebal.com  2015-03-01   4:45    out\n",
       "4   narendra.modi@yahoo.com  2015-03-01   4:50    out\n",
       "5   mehul.chopra@neebal.com  2015-03-02   5:30    out\n",
       "6   mehul.chopra@neebal.com  2015-03-02   5:45    out\n",
       "7   mehul.chopra@neebal.com  2015-03-02   6:00     in\n",
       "8   mehul.chopra@neebal.com  2015-03-02   7:30    out\n",
       "9    katrina.kaif@gmail.com  2015-03-02  18:00    out\n",
       "10  narendra.modi@yahoo.com  2015-03-03  10:30    out\n",
       "11  narendra.modi@yahoo.com  2015-03-03  10:45    out\n",
       "12   katrina.kaif@gmail.com  2015-03-03  11:00     in\n",
       "13  narendra.modi@yahoo.com  2015-03-03  11:30    out\n",
       "14  mehul.chopra@neebal.com  2015-03-03   1:30     in\n",
       "15  narendra.modi@yahoo.com  2015-03-03   2:30    out\n",
       "16   katrina.kaif@gmail.com  2015-03-03   2:30    out\n",
       "17  mehul.chopra@neebal.com  2015-03-03   2:45     in"
      ]
     },
     "execution_count": 3,
     "metadata": {},
     "output_type": "execute_result"
    }
   ],
   "source": [
    "d1 = pd.read_csv(path, header=None, names=['username', 'date', 'time', 'action'])\n",
    "d1"
   ]
  },
  {
   "cell_type": "code",
   "execution_count": 12,
   "metadata": {},
   "outputs": [
    {
     "data": {
      "text/plain": [
       "narendra.modi@yahoo.com    6\n",
       "mehul.chopra@neebal.com    4\n",
       "Name: username, dtype: int64"
      ]
     },
     "execution_count": 12,
     "metadata": {},
     "output_type": "execute_result"
    }
   ],
   "source": [
    "d2 = d1[d1['action'] == 'out']\n",
    "d3 = d2['username']\n",
    "d4 = d3.value_counts()\n",
    "d5 = d4.head(2)\n",
    "d5"
   ]
  },
  {
   "cell_type": "code",
   "execution_count": 14,
   "metadata": {},
   "outputs": [
    {
     "data": {
      "image/png": "[encoded data removed]",
      "text/plain": [
       "<Figure size 432x288 with 1 Axes>"
      ]
     },
     "metadata": {
      "needs_background": "light"
     },
     "output_type": "display_data"
    }
   ],
   "source": [
    "d4.plot(kind='barh')\n",
    "plt.show()"
   ]
  },
  {
   "cell_type": "code",
   "execution_count": 21,
   "metadata": {},
   "outputs": [
    {
     "data": {
      "text/html": [
       "<div>\n",
       "<style scoped>\n",
       "    .dataframe tbody tr th:only-of-type {\n",
       "        vertical-align: middle;\n",
       "    }\n",
       "\n",
       "    .dataframe tbody tr th {\n",
       "        vertical-align: top;\n",
       "    }\n",
       "\n",
       "    .dataframe thead th {\n",
       "        text-align: right;\n",
       "    }\n",
       "</style>\n",
       "<table border=\"1\" class=\"dataframe\">\n",
       "  <thead>\n",
       "    <tr style=\"text-align: right;\">\n",
       "      <th>action</th>\n",
       "      <th>in</th>\n",
       "      <th>out</th>\n",
       "    </tr>\n",
       "    <tr>\n",
       "      <th>username</th>\n",
       "      <th></th>\n",
       "      <th></th>\n",
       "    </tr>\n",
       "  </thead>\n",
       "  <tbody>\n",
       "    <tr>\n",
       "      <th>katrina.kaif@gmail.com</th>\n",
       "      <td>1.0</td>\n",
       "      <td>3.0</td>\n",
       "    </tr>\n",
       "    <tr>\n",
       "      <th>mehul.chopra@neebal.com</th>\n",
       "      <td>4.0</td>\n",
       "      <td>4.0</td>\n",
       "    </tr>\n",
       "    <tr>\n",
       "      <th>narendra.modi@yahoo.com</th>\n",
       "      <td>0.0</td>\n",
       "      <td>6.0</td>\n",
       "    </tr>\n",
       "  </tbody>\n",
       "</table>\n",
       "</div>"
      ],
      "text/plain": [
       "action                    in  out\n",
       "username                         \n",
       "katrina.kaif@gmail.com   1.0  3.0\n",
       "mehul.chopra@neebal.com  4.0  4.0\n",
       "narendra.modi@yahoo.com  0.0  6.0"
      ]
     },
     "execution_count": 21,
     "metadata": {},
     "output_type": "execute_result"
    }
   ],
   "source": [
    "d2 = d1[['username', 'action']]\n",
    "d3 = d2.groupby(['username', 'action'])\n",
    "d4 = d3.size()\n",
    "d5 = d4.unstack()\n",
    "d6 = d5.fillna(0)\n",
    "d6"
   ]
  },
  {
   "cell_type": "code",
   "execution_count": 22,
   "metadata": {},
   "outputs": [
    {
     "data": {
      "image/png": "[encoded data removed]",
      "text/plain": [
       "<Figure size 432x288 with 1 Axes>"
      ]
     },
     "metadata": {
      "needs_background": "light"
     },
     "output_type": "display_data"
    }
   ],
   "source": [
    "d6.plot(kind='barh', stacked=True)\n",
    "plt.show()"
   ]
  },
  {
   "cell_type": "code",
   "execution_count": 28,
   "metadata": {},
   "outputs": [
    {
     "name": "stderr",
     "output_type": "stream",
     "text": [
      "/anaconda3/lib/python3.7/site-packages/ipykernel_launcher.py:2: SettingWithCopyWarning: \n",
      "A value is trying to be set on a copy of a slice from a DataFrame.\n",
      "Try using .loc[row_indexer,col_indexer] = value instead\n",
      "\n",
      "See the caveats in the documentation: http://pandas.pydata.org/pandas-docs/stable/indexing.html#indexing-view-versus-copy\n",
      "  \n"
     ]
    },
    {
     "data": {
      "text/html": [
       "<div>\n",
       "<style scoped>\n",
       "    .dataframe tbody tr th:only-of-type {\n",
       "        vertical-align: middle;\n",
       "    }\n",
       "\n",
       "    .dataframe tbody tr th {\n",
       "        vertical-align: top;\n",
       "    }\n",
       "\n",
       "    .dataframe thead th {\n",
       "        text-align: right;\n",
       "    }\n",
       "</style>\n",
       "<table border=\"1\" class=\"dataframe\">\n",
       "  <thead>\n",
       "    <tr style=\"text-align: right;\">\n",
       "      <th>action</th>\n",
       "      <th>in</th>\n",
       "      <th>out</th>\n",
       "    </tr>\n",
       "    <tr>\n",
       "      <th>username</th>\n",
       "      <th></th>\n",
       "      <th></th>\n",
       "    </tr>\n",
       "  </thead>\n",
       "  <tbody>\n",
       "    <tr>\n",
       "      <th>katrina.kaif@gmail.com</th>\n",
       "      <td>1.0</td>\n",
       "      <td>3.0</td>\n",
       "    </tr>\n",
       "    <tr>\n",
       "      <th>mehul.chopra@neebal.com</th>\n",
       "      <td>4.0</td>\n",
       "      <td>4.0</td>\n",
       "    </tr>\n",
       "    <tr>\n",
       "      <th>narendra.modi@yahoo.com</th>\n",
       "      <td>0.0</td>\n",
       "      <td>6.0</td>\n",
       "    </tr>\n",
       "  </tbody>\n",
       "</table>\n",
       "</div>"
      ],
      "text/plain": [
       "action                    in  out\n",
       "username                         \n",
       "katrina.kaif@gmail.com   1.0  3.0\n",
       "mehul.chopra@neebal.com  4.0  4.0\n",
       "narendra.modi@yahoo.com  0.0  6.0"
      ]
     },
     "execution_count": 28,
     "metadata": {},
     "output_type": "execute_result"
    }
   ],
   "source": [
    "d2 = d1[['username','action']]\n",
    "d2['count'] = 1\n",
    "d3 = d2.pivot_table('count', index='username', columns=['action'], aggfunc='sum')\n",
    "d4 = d3.fillna(0)\n",
    "d4"
   ]
  }
 ],
 "metadata": {
  "kernelspec": {
   "display_name": "Python 3",
   "language": "python",
   "name": "python3"
  },
  "language_info": {
   "codemirror_mode": {
    "name": "ipython",
    "version": 3
   },
   "file_extension": ".py",
   "mimetype": "text/x-python",
   "name": "python",
   "nbconvert_exporter": "python",
   "pygments_lexer": "ipython3",
   "version": "3.7.1"
  }
 },
 "nbformat": 4,
 "nbformat_minor": 2
}
