{
 "cells": [
  {
   "cell_type": "code",
   "execution_count": 1,
   "metadata": {},
   "outputs": [],
   "source": [
    "import numpy as np"
   ]
  },
  {
   "cell_type": "code",
   "execution_count": 11,
   "metadata": {},
   "outputs": [
    {
     "name": "stdout",
     "output_type": "stream",
     "text": [
      "[4 5 4 9 9 1 1 4 5 6]\n",
      "<class 'numpy.ndarray'>\n",
      "1\n",
      "(10,)\n",
      "int16\n"
     ]
    }
   ],
   "source": [
    "marks = [4, 5, 4, 9, 9, 1, 1, 4, 5, 6]\n",
    "n1 = np.array(marks, dtype=np.int16)\n",
    "print(n1)\n",
    "print(type(n1))\n",
    "print(n1.ndim)\n",
    "print(n1.shape)\n",
    "print(n1.dtype)"
   ]
  },
  {
   "cell_type": "markdown",
   "metadata": {},
   "source": [
    "Add 1 pointer"
   ]
  },
  {
   "cell_type": "code",
   "execution_count": 12,
   "metadata": {},
   "outputs": [
    {
     "name": "stdout",
     "output_type": "stream",
     "text": [
      "[ 5  6  5 10 10  2  2  5  6  7]\n",
      "<class 'numpy.ndarray'>\n"
     ]
    }
   ],
   "source": [
    "addedmarks = n1 + 1\n",
    "print(addedmarks)\n",
    "print(type(addedmarks))"
   ]
  },
  {
   "cell_type": "markdown",
   "metadata": {},
   "source": [
    "Deduct 1 marks"
   ]
  },
  {
   "cell_type": "code",
   "execution_count": 14,
   "metadata": {},
   "outputs": [
    {
     "name": "stdout",
     "output_type": "stream",
     "text": [
      "[3 4 3 8 8 0 0 3 4 5]\n"
     ]
    }
   ],
   "source": [
    "deductedmarks = n1 - 1\n",
    "print(deductedmarks)"
   ]
  },
  {
   "cell_type": "markdown",
   "metadata": {},
   "source": [
    "Vectorized operations. Operations achieved on a vector of values without explicitly writing a loop"
   ]
  },
  {
   "cell_type": "code",
   "execution_count": 15,
   "metadata": {},
   "outputs": [
    {
     "name": "stdout",
     "output_type": "stream",
     "text": [
      "[16 25 16 81 81  1  1 16 25 36]\n"
     ]
    }
   ],
   "source": [
    "print(n1 ** 2)"
   ]
  },
  {
   "cell_type": "markdown",
   "metadata": {},
   "source": [
    "Indexing"
   ]
  },
  {
   "cell_type": "code",
   "execution_count": 20,
   "metadata": {},
   "outputs": [
    {
     "name": "stdout",
     "output_type": "stream",
     "text": [
      "[4 5 4 9 9 1 1 4 5 6]\n",
      "4\n",
      "6\n",
      "[4 6]\n"
     ]
    }
   ],
   "source": [
    "print(n1)\n",
    "print(n1[0])\n",
    "print(n1[-1])\n",
    "print(n1[[0, -1]]) # multiple indexing"
   ]
  },
  {
   "cell_type": "markdown",
   "metadata": {},
   "source": [
    "Slicing"
   ]
  },
  {
   "cell_type": "code",
   "execution_count": 27,
   "metadata": {},
   "outputs": [
    {
     "name": "stdout",
     "output_type": "stream",
     "text": [
      "[4 5 4 9 9 1 1 4 5 6]\n",
      "[4 5 4]\n",
      "[4 5 4]\n",
      "[9 9 1 1 4 5 6]\n",
      "[4 4 9 1 5]\n",
      "[1 4 5 6]\n"
     ]
    }
   ],
   "source": [
    "print(n1)\n",
    "print(n1[0:3])\n",
    "print(n1[:3])\n",
    "print(n1[3:])\n",
    "print(n1[::2])\n",
    "print(n1[-4:])"
   ]
  },
  {
   "cell_type": "markdown",
   "metadata": {},
   "source": [
    "Slicing + assignment"
   ]
  },
  {
   "cell_type": "code",
   "execution_count": 30,
   "metadata": {},
   "outputs": [
    {
     "name": "stdout",
     "output_type": "stream",
     "text": [
      "[4 5 4 0 0 0 1 4 5 6]\n",
      "[4 5 4 0 0 0 1 4 5 6]\n"
     ]
    }
   ],
   "source": [
    "print(n1)\n",
    "n1[3:6] = 0\n",
    "print(n1)"
   ]
  },
  {
   "cell_type": "code",
   "execution_count": 31,
   "metadata": {},
   "outputs": [
    {
     "name": "stdout",
     "output_type": "stream",
     "text": [
      "[4 5 4 0 0 0 1 4 5 6]\n"
     ]
    }
   ],
   "source": [
    "print(n1)"
   ]
  },
  {
   "cell_type": "markdown",
   "metadata": {},
   "source": [
    "Arithemtic functions"
   ]
  },
  {
   "cell_type": "code",
   "execution_count": 38,
   "metadata": {},
   "outputs": [
    {
     "name": "stdout",
     "output_type": "stream",
     "text": [
      "2.9\n",
      "2.2561028345356955\n",
      "5.090000000000001\n",
      "29\n",
      "6\n",
      "0\n",
      "[ 4  9 13 13 13 13 14 18 23 29]\n"
     ]
    }
   ],
   "source": [
    "print(n1.mean())\n",
    "print(n1.std())\n",
    "print(n1.var())\n",
    "print(n1.sum())\n",
    "print(n1.max())\n",
    "print(n1.min())\n",
    "print(n1.cumsum())"
   ]
  },
  {
   "cell_type": "code",
   "execution_count": 39,
   "metadata": {},
   "outputs": [
    {
     "name": "stdout",
     "output_type": "stream",
     "text": [
      "None\n"
     ]
    }
   ],
   "source": [
    "print(n1.sort())"
   ]
  },
  {
   "cell_type": "code",
   "execution_count": 40,
   "metadata": {},
   "outputs": [
    {
     "name": "stdout",
     "output_type": "stream",
     "text": [
      "[0 0 0 1 4 4 4 5 5 6]\n"
     ]
    }
   ],
   "source": [
    "print(n1)"
   ]
  },
  {
   "cell_type": "markdown",
   "metadata": {},
   "source": [
    "Filtering"
   ]
  },
  {
   "cell_type": "code",
   "execution_count": 45,
   "metadata": {},
   "outputs": [],
   "source": [
    "n2 = np.array([4, 5, 10, 10, 1, 5, 6, 7, 2, 3, 3, 10])"
   ]
  },
  {
   "cell_type": "code",
   "execution_count": 46,
   "metadata": {},
   "outputs": [
    {
     "name": "stdout",
     "output_type": "stream",
     "text": [
      "[ 5 10 10  5  6  7 10]\n"
     ]
    }
   ],
   "source": [
    "n3 = n2[n2 >= 5]\n",
    "print(n3)"
   ]
  },
  {
   "cell_type": "code",
   "execution_count": 47,
   "metadata": {},
   "outputs": [
    {
     "name": "stdout",
     "output_type": "stream",
     "text": [
      "[ 4 10 10  1  2  3  3 10]\n"
     ]
    }
   ],
   "source": [
    "n4 = n2[(n2 < 5) | (n2 == 10)]\n",
    "print(n4)"
   ]
  },
  {
   "cell_type": "markdown",
   "metadata": {},
   "source": [
    "Filtering + Assignment"
   ]
  },
  {
   "cell_type": "code",
   "execution_count": 50,
   "metadata": {},
   "outputs": [
    {
     "name": "stdout",
     "output_type": "stream",
     "text": [
      "[ 4  5 10 10  1  5  6  7  2  3  3 10]\n"
     ]
    }
   ],
   "source": [
    "print(n2)\n",
    "n2[n2 == 10] = 0"
   ]
  },
  {
   "cell_type": "code",
   "execution_count": 53,
   "metadata": {},
   "outputs": [
    {
     "name": "stdout",
     "output_type": "stream",
     "text": [
      "[4 5 0 0 1 5 6 7 2 3 3 0]\n"
     ]
    }
   ],
   "source": [
    "print(n2)"
   ]
  },
  {
   "cell_type": "code",
   "execution_count": 58,
   "metadata": {
    "scrolled": true
   },
   "outputs": [
    {
     "name": "stdout",
     "output_type": "stream",
     "text": [
      "[0 1 2 3 4 5 6 7]\n",
      "[3 1 1 2 1 2 1 1]\n"
     ]
    }
   ],
   "source": [
    "uniquepointers, count = np.unique(n2, return_counts=True)\n",
    "print(uniquepointers)\n",
    "print(count)"
   ]
  },
  {
   "cell_type": "code",
   "execution_count": 61,
   "metadata": {},
   "outputs": [
    {
     "name": "stdout",
     "output_type": "stream",
     "text": [
      "[4 5 0 0 1 5 6 7 2 3 3 0]\n",
      "[0 0 0 0 0 0 1 1 0 0 0 0]\n"
     ]
    }
   ],
   "source": [
    "print(n2)\n",
    "weightedmarks = np.where(n2 > 5, 1, 0)\n",
    "print(weightedmarks)"
   ]
  }
 ],
 "metadata": {
  "kernelspec": {
   "display_name": "Python 3",
   "language": "python",
   "name": "python3"
  },
  "language_info": {
   "codemirror_mode": {
    "name": "ipython",
    "version": 3
   },
   "file_extension": ".py",
   "mimetype": "text/x-python",
   "name": "python",
   "nbconvert_exporter": "python",
   "pygments_lexer": "ipython3",
   "version": "3.7.1"
  }
 },
 "nbformat": 4,
 "nbformat_minor": 2
}
