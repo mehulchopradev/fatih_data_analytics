{
 "cells": [
  {
   "cell_type": "code",
   "execution_count": 2,
   "metadata": {},
   "outputs": [],
   "source": [
    "import numpy as np\n",
    "import pandas as pd\n",
    "from pandas import Series"
   ]
  },
  {
   "cell_type": "code",
   "execution_count": 3,
   "metadata": {},
   "outputs": [],
   "source": [
    "marks = [5, 5, 6, 2, 3, 9, 8, 5]\n",
    "s1 = Series(marks)"
   ]
  },
  {
   "cell_type": "code",
   "execution_count": 4,
   "metadata": {},
   "outputs": [
    {
     "data": {
      "text/plain": [
       "0    5\n",
       "1    5\n",
       "2    6\n",
       "3    2\n",
       "4    3\n",
       "5    9\n",
       "6    8\n",
       "7    5\n",
       "dtype: int64"
      ]
     },
     "execution_count": 4,
     "metadata": {},
     "output_type": "execute_result"
    }
   ],
   "source": [
    "s1"
   ]
  },
  {
   "cell_type": "code",
   "execution_count": 8,
   "metadata": {},
   "outputs": [
    {
     "name": "stdout",
     "output_type": "stream",
     "text": [
      "<class 'numpy.ndarray'>\n",
      "0\n",
      "1\n",
      "2\n",
      "3\n",
      "4\n",
      "5\n",
      "6\n",
      "7\n"
     ]
    }
   ],
   "source": [
    "v = s1.values\n",
    "print(type(v))\n",
    "for i in s1.index:\n",
    "    print(i)"
   ]
  },
  {
   "cell_type": "code",
   "execution_count": 18,
   "metadata": {},
   "outputs": [],
   "source": [
    "roll = [10, 5, 11, 12, 15, 16, 19, 6]\n",
    "s2 = Series(marks, index=roll)\n",
    "s2.name = 'Marks obtained'\n",
    "s2.index.name = 'Roll'"
   ]
  },
  {
   "cell_type": "code",
   "execution_count": 19,
   "metadata": {},
   "outputs": [
    {
     "data": {
      "text/plain": [
       "Roll\n",
       "10    5\n",
       "5     5\n",
       "11    6\n",
       "12    2\n",
       "15    3\n",
       "16    9\n",
       "19    8\n",
       "6     5\n",
       "Name: Marks obtained, dtype: int64"
      ]
     },
     "execution_count": 19,
     "metadata": {},
     "output_type": "execute_result"
    }
   ],
   "source": [
    "s2"
   ]
  },
  {
   "cell_type": "code",
   "execution_count": 21,
   "metadata": {},
   "outputs": [],
   "source": [
    "roll_marks = {10: 5, 13: 6, 7: 3}\n",
    "s3 = Series(roll_marks)"
   ]
  },
  {
   "cell_type": "code",
   "execution_count": 22,
   "metadata": {},
   "outputs": [
    {
     "data": {
      "text/plain": [
       "10    5\n",
       "13    6\n",
       "7     3\n",
       "dtype: int64"
      ]
     },
     "execution_count": 22,
     "metadata": {},
     "output_type": "execute_result"
    }
   ],
   "source": [
    "s3"
   ]
  },
  {
   "cell_type": "markdown",
   "metadata": {},
   "source": [
    "Indexing"
   ]
  },
  {
   "cell_type": "code",
   "execution_count": 23,
   "metadata": {},
   "outputs": [
    {
     "data": {
      "text/plain": [
       "Roll\n",
       "10    5\n",
       "5     5\n",
       "11    6\n",
       "12    2\n",
       "15    3\n",
       "16    9\n",
       "19    8\n",
       "6     5\n",
       "Name: Marks obtained, dtype: int64"
      ]
     },
     "execution_count": 23,
     "metadata": {},
     "output_type": "execute_result"
    }
   ],
   "source": [
    "s2"
   ]
  },
  {
   "cell_type": "code",
   "execution_count": 28,
   "metadata": {},
   "outputs": [
    {
     "name": "stdout",
     "output_type": "stream",
     "text": [
      "6\n",
      "5\n",
      "5\n",
      "8\n"
     ]
    }
   ],
   "source": [
    "# indexing by key\n",
    "print(s2.loc[11])\n",
    "print(s2.loc[6])\n",
    "\n",
    "# indexing by 0 based internal index\n",
    "print(s2.iloc[0])\n",
    "print(s2.iloc[-2])"
   ]
  },
  {
   "cell_type": "markdown",
   "metadata": {},
   "source": [
    "Slicing"
   ]
  },
  {
   "cell_type": "code",
   "execution_count": 31,
   "metadata": {},
   "outputs": [
    {
     "name": "stdout",
     "output_type": "stream",
     "text": [
      "Roll\n",
      "16    9\n",
      "19    8\n",
      "6     5\n",
      "Name: Marks obtained, dtype: int64\n",
      "Roll\n",
      "10    5\n",
      "5     5\n",
      "11    6\n",
      "12    2\n",
      "Name: Marks obtained, dtype: int64\n",
      "Series([], Name: Marks obtained, dtype: int64)\n"
     ]
    }
   ],
   "source": [
    "# slicing by 0 based internal index\n",
    "print(s2[-3:])\n",
    "print(s2[:4])\n",
    "\n",
    "# slicing by your own index (roll)\n",
    "print(s2[10:11]) # does not work"
   ]
  },
  {
   "cell_type": "code",
   "execution_count": 37,
   "metadata": {},
   "outputs": [
    {
     "name": "stdout",
     "output_type": "stream",
     "text": [
      "Roll\n",
      "10    5\n",
      "5     5\n",
      "11    6\n",
      "12    2\n",
      "15    3\n",
      "16    9\n",
      "19    8\n",
      "6     5\n",
      "Name: Marks obtained, dtype: int64\n",
      "5.375\n",
      "2\n",
      "9\n",
      "2.326094212561969\n"
     ]
    }
   ],
   "source": [
    "print(s2)\n",
    "print(s2.mean())\n",
    "print(s2.min())\n",
    "print(s2.max())\n",
    "print(s2.std())"
   ]
  },
  {
   "cell_type": "code",
   "execution_count": 40,
   "metadata": {},
   "outputs": [
    {
     "name": "stdout",
     "output_type": "stream",
     "text": [
      "Roll\n",
      "10    5\n",
      "5     5\n",
      "11    6\n",
      "12    2\n",
      "15    3\n",
      "16    9\n",
      "19    8\n",
      "6     5\n",
      "Name: Marks obtained, dtype: int64\n",
      "5    3\n",
      "6    1\n",
      "3    1\n",
      "2    1\n",
      "9    1\n",
      "8    1\n",
      "Name: Marks obtained, dtype: int64\n"
     ]
    }
   ],
   "source": [
    "print(s2)\n",
    "print(s2.value_counts())"
   ]
  },
  {
   "cell_type": "code",
   "execution_count": 42,
   "metadata": {},
   "outputs": [
    {
     "name": "stdout",
     "output_type": "stream",
     "text": [
      "Roll\n",
      "10    5\n",
      "5     5\n",
      "11    6\n",
      "12    2\n",
      "15    3\n",
      "16    9\n",
      "19    8\n",
      "6     5\n",
      "Name: Marks obtained, dtype: int64\n",
      "Roll\n",
      "5     5\n",
      "6     5\n",
      "10    5\n",
      "11    6\n",
      "12    2\n",
      "15    3\n",
      "16    9\n",
      "19    8\n",
      "Name: Marks obtained, dtype: int64\n"
     ]
    }
   ],
   "source": [
    "print(s2)\n",
    "print(s2.sort_index())"
   ]
  },
  {
   "cell_type": "code",
   "execution_count": 46,
   "metadata": {},
   "outputs": [
    {
     "name": "stdout",
     "output_type": "stream",
     "text": [
      "Roll\n",
      "10    5\n",
      "5     5\n",
      "11    6\n",
      "12    2\n",
      "15    3\n",
      "16    9\n",
      "19    8\n",
      "6     5\n",
      "Name: Marks obtained, dtype: int64\n",
      "Roll\n",
      "16    9\n",
      "19    8\n",
      "11    6\n",
      "Name: Marks obtained, dtype: int64\n"
     ]
    }
   ],
   "source": [
    "print(s2)\n",
    "print(s2.sort_values(ascending=False)[:3])"
   ]
  },
  {
   "cell_type": "code",
   "execution_count": 47,
   "metadata": {},
   "outputs": [],
   "source": [
    "temp = [23, 24, 23, 25, 26, 27, 25]\n",
    "year = [1900, 1900, 1900, 1901, 1902, 1901, 1902]\n",
    "tempseries = Series(temp, index=year)"
   ]
  },
  {
   "cell_type": "code",
   "execution_count": 48,
   "metadata": {},
   "outputs": [
    {
     "data": {
      "text/plain": [
       "1900    23\n",
       "1900    24\n",
       "1900    23\n",
       "1901    25\n",
       "1902    26\n",
       "1901    27\n",
       "1902    25\n",
       "dtype: int64"
      ]
     },
     "execution_count": 48,
     "metadata": {},
     "output_type": "execute_result"
    }
   ],
   "source": [
    "tempseries"
   ]
  },
  {
   "cell_type": "code",
   "execution_count": 54,
   "metadata": {},
   "outputs": [
    {
     "name": "stdout",
     "output_type": "stream",
     "text": [
      "27\n",
      "1900    24\n",
      "1901    27\n",
      "1902    26\n",
      "dtype: int64\n"
     ]
    }
   ],
   "source": [
    "print(tempseries.max())\n",
    "print(tempseries.groupby(level=0).max())"
   ]
  },
  {
   "cell_type": "markdown",
   "metadata": {},
   "source": [
    "Filtering"
   ]
  },
  {
   "cell_type": "code",
   "execution_count": 57,
   "metadata": {},
   "outputs": [
    {
     "name": "stdout",
     "output_type": "stream",
     "text": [
      "Roll\n",
      "10    5\n",
      "5     5\n",
      "11    6\n",
      "12    2\n",
      "15    3\n",
      "16    9\n",
      "19    8\n",
      "6     5\n",
      "Name: Marks obtained, dtype: int64\n",
      "Roll\n",
      "11    6\n",
      "16    9\n",
      "19    8\n",
      "Name: Marks obtained, dtype: int64\n"
     ]
    }
   ],
   "source": [
    "print(s2)\n",
    "print(s2[s2 > 5])"
   ]
  },
  {
   "cell_type": "code",
   "execution_count": 59,
   "metadata": {},
   "outputs": [
    {
     "name": "stdout",
     "output_type": "stream",
     "text": [
      "1900    23\n",
      "1900    24\n",
      "1900    23\n",
      "1901    25\n",
      "1902    26\n",
      "1901    27\n",
      "1902    25\n",
      "dtype: int64\n",
      "1900    3\n",
      "1901    2\n",
      "1902    2\n",
      "dtype: int64\n"
     ]
    }
   ],
   "source": [
    "print(tempseries)\n",
    "print(tempseries.groupby(level=0).count())"
   ]
  },
  {
   "cell_type": "code",
   "execution_count": 60,
   "metadata": {},
   "outputs": [
    {
     "data": {
      "text/plain": [
       "count    8.000000\n",
       "mean     5.375000\n",
       "std      2.326094\n",
       "min      2.000000\n",
       "25%      4.500000\n",
       "50%      5.000000\n",
       "75%      6.500000\n",
       "max      9.000000\n",
       "Name: Marks obtained, dtype: float64"
      ]
     },
     "execution_count": 60,
     "metadata": {},
     "output_type": "execute_result"
    }
   ],
   "source": [
    "s2.describe()"
   ]
  },
  {
   "cell_type": "code",
   "execution_count": null,
   "metadata": {},
   "outputs": [],
   "source": []
  }
 ],
 "metadata": {
  "kernelspec": {
   "display_name": "Python 3",
   "language": "python",
   "name": "python3"
  },
  "language_info": {
   "codemirror_mode": {
    "name": "ipython",
    "version": 3
   },
   "file_extension": ".py",
   "mimetype": "text/x-python",
   "name": "python",
   "nbconvert_exporter": "python",
   "pygments_lexer": "ipython3",
   "version": "3.7.1"
  }
 },
 "nbformat": 4,
 "nbformat_minor": 2
}
