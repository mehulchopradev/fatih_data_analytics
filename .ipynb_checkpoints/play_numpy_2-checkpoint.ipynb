{
 "cells": [
  {
   "cell_type": "code",
   "execution_count": 1,
   "metadata": {},
   "outputs": [],
   "source": [
    "import numpy as np"
   ]
  },
  {
   "cell_type": "code",
   "execution_count": 4,
   "metadata": {},
   "outputs": [
    {
     "name": "stdout",
     "output_type": "stream",
     "text": [
      "[[ 67  83  98]\n",
      " [ 98  99  76]\n",
      " [100  92  89]]\n",
      "<class 'numpy.ndarray'>\n",
      "2\n",
      "(3, 3)\n"
     ]
    }
   ],
   "source": [
    "pcm = [\n",
    "    [67, 83, 98],\n",
    "    [98, 99, 76],\n",
    "    [100, 92, 89]\n",
    "]\n",
    "n1 = np.array(pcm)\n",
    "print(n1)\n",
    "print(type(n1))\n",
    "print(n1.ndim)\n",
    "print(n1.shape)"
   ]
  },
  {
   "cell_type": "code",
   "execution_count": 5,
   "metadata": {},
   "outputs": [
    {
     "name": "stdout",
     "output_type": "stream",
     "text": [
      "[[ 67  84 100]\n",
      " [ 98 100  78]\n",
      " [100  93  91]]\n"
     ]
    }
   ],
   "source": [
    "correctedmarks = n1 + [0, 1, 2]\n",
    "print(correctedmarks)"
   ]
  },
  {
   "cell_type": "code",
   "execution_count": 10,
   "metadata": {},
   "outputs": [
    {
     "name": "stdout",
     "output_type": "stream",
     "text": [
      "[67 83 98]\n",
      "[100  92  89]\n",
      "89\n",
      "67\n",
      "[[ 67  83  98]\n",
      " [100  92  89]]\n"
     ]
    }
   ],
   "source": [
    "print(n1[0])\n",
    "print(n1[-1])\n",
    "print(n1[-1, 2])\n",
    "print(n1[0, 0])\n",
    "print(n1[[0, -1]])"
   ]
  },
  {
   "cell_type": "code",
   "execution_count": 15,
   "metadata": {},
   "outputs": [
    {
     "name": "stdout",
     "output_type": "stream",
     "text": [
      "[[ 98  99  76]\n",
      " [100  92  89]]\n",
      "[[ 98  99]\n",
      " [100  92]]\n",
      "[[ 98  99]\n",
      " [100  92]]\n",
      "[[83 98]\n",
      " [99 76]]\n"
     ]
    }
   ],
   "source": [
    "print(n1[-2:])\n",
    "print(n1[-2:, :2])\n",
    "print(n1[-2:, [0, 1]])\n",
    "print(n1[[0, 1], -2:])"
   ]
  },
  {
   "cell_type": "code",
   "execution_count": 23,
   "metadata": {
    "scrolled": true
   },
   "outputs": [
    {
     "name": "stdout",
     "output_type": "stream",
     "text": [
      "[[ 67  83  98]\n",
      " [ 98  99  76]\n",
      " [100  92  89]]\n",
      "[88.33333333 91.33333333 87.66666667]\n",
      "[248 273 281]\n",
      "88.33333333333333\n",
      "[6.5489609  9.03081146]\n"
     ]
    }
   ],
   "source": [
    "print(n1)\n",
    "print(n1.mean(axis=0))\n",
    "print(n1.sum(axis=1))\n",
    "print(n1[:,0].mean())\n",
    "chemmaths = n1[:, -2:]\n",
    "print(chemmaths.std(axis=0))"
   ]
  },
  {
   "cell_type": "code",
   "execution_count": 24,
   "metadata": {},
   "outputs": [
    {
     "name": "stdout",
     "output_type": "stream",
     "text": [
      "[[ 67  83  98]\n",
      " [ 98  99  76]\n",
      " [100  92  89]]\n"
     ]
    }
   ],
   "source": [
    "print(n1)"
   ]
  },
  {
   "cell_type": "code",
   "execution_count": 25,
   "metadata": {},
   "outputs": [],
   "source": [
    "n4 = np.array([\n",
    "    [45, 67, 100],\n",
    "    [94, 95, 67]\n",
    "])"
   ]
  },
  {
   "cell_type": "code",
   "execution_count": 26,
   "metadata": {},
   "outputs": [
    {
     "name": "stdout",
     "output_type": "stream",
     "text": [
      "[[ 67  83  98]\n",
      " [ 98  99  76]\n",
      " [100  92  89]\n",
      " [ 45  67 100]\n",
      " [ 94  95  67]]\n"
     ]
    }
   ],
   "source": [
    "consolidated = np.vstack((n1, n4))\n",
    "print(consolidated)"
   ]
  },
  {
   "cell_type": "code",
   "execution_count": 27,
   "metadata": {},
   "outputs": [],
   "source": [
    "verbalquant = np.array([\n",
    "    [100, 100],\n",
    "    [56, 89],\n",
    "    [99, 94],\n",
    "    [78, 75],\n",
    "    [98, 100]\n",
    "])"
   ]
  },
  {
   "cell_type": "code",
   "execution_count": 28,
   "metadata": {},
   "outputs": [
    {
     "name": "stdout",
     "output_type": "stream",
     "text": [
      "[[ 67  83  98 100 100]\n",
      " [ 98  99  76  56  89]\n",
      " [100  92  89  99  94]\n",
      " [ 45  67 100  78  75]\n",
      " [ 94  95  67  98 100]]\n"
     ]
    }
   ],
   "source": [
    "history = np.hstack((consolidated, verbalquant))\n",
    "print(history)"
   ]
  },
  {
   "cell_type": "code",
   "execution_count": 29,
   "metadata": {},
   "outputs": [
    {
     "name": "stdout",
     "output_type": "stream",
     "text": [
      "[[0 0 0 1 1]\n",
      " [0 0 0 0 0]\n",
      " [1 0 0 0 0]\n",
      " [0 0 1 0 0]\n",
      " [0 0 0 0 1]]\n"
     ]
    }
   ],
   "source": [
    "weighted = np.where(history == 100, 1, 0)\n",
    "print(weighted)"
   ]
  }
 ],
 "metadata": {
  "kernelspec": {
   "display_name": "Python 3",
   "language": "python",
   "name": "python3"
  },
  "language_info": {
   "codemirror_mode": {
    "name": "ipython",
    "version": 3
   },
   "file_extension": ".py",
   "mimetype": "text/x-python",
   "name": "python",
   "nbconvert_exporter": "python",
   "pygments_lexer": "ipython3",
   "version": "3.7.1"
  }
 },
 "nbformat": 4,
 "nbformat_minor": 2
}
